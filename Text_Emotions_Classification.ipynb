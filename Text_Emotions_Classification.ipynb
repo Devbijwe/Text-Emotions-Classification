{
 "cells": [
  {
   "cell_type": "code",
   "execution_count": 1,
   "metadata": {
    "id": "1ijpUx_ebs2Z"
   },
   "outputs": [],
   "source": [
    "import pandas as pd\n",
    "import numpy as np\n",
    "import keras\n",
    "import tensorflow\n",
    "from keras.preprocessing.text import Tokenizer\n",
    "from tensorflow.keras.preprocessing.sequence import pad_sequences\n",
    "from sklearn.model_selection import train_test_split\n",
    "from sklearn.preprocessing import LabelEncoder\n",
    "from keras.models import Sequential\n",
    "from keras.layers import Embedding,Flatten,Dense\n"
   ]
  },
  {
   "cell_type": "code",
   "execution_count": 2,
   "metadata": {
    "colab": {
     "base_uri": "https://localhost:8080/",
     "height": 1000
    },
    "id": "-nGW_oUZkKVn",
    "outputId": "c5d55e86-c104-4a82-fefb-ced9d685c5dc"
   },
   "outputs": [
    {
     "name": "stdout",
     "output_type": "stream",
     "text": [
      "                                                Text Emotions\n",
      "0  i can go from feeling so hopeless to so damned...  sadness\n",
      "1   im grabbing a minute to post i feel greedy wrong    anger\n",
      "2  i am ever feeling nostalgic about the fireplac...     love\n",
      "3                               i am feeling grouchy    anger\n",
      "4  ive been feeling a little burdened lately wasn...  sadness\n"
     ]
    }
   ],
   "source": [
    "data = pd.read_csv(\"text_emotions/train.txt\", sep=';')\n",
    "data.columns = [\"Text\", \"Emotions\"]\n",
    "print(data.head())"
   ]
  },
  {
   "cell_type": "code",
   "execution_count": 3,
   "metadata": {
    "id": "krtFa8k1hgcM"
   },
   "outputs": [],
   "source": [
    "texts = data[\"Text\"].tolist()\n",
    "labels = data[\"Emotions\"].tolist()\n",
    "\n",
    "# Tokenize the text data\n",
    "tokenizer = Tokenizer()\n",
    "tokenizer.fit_on_texts(texts)"
   ]
  },
  {
   "cell_type": "code",
   "execution_count": 4,
   "metadata": {
    "id": "fYOJmOjvnGBe"
   },
   "outputs": [],
   "source": [
    "sequences = tokenizer.texts_to_sequences(texts)\n",
    "max_length = max([len(seq) for seq in sequences])\n",
    "padded_sequences = pad_sequences(sequences, maxlen=max_length)"
   ]
  },
  {
   "cell_type": "code",
   "execution_count": 5,
   "metadata": {
    "id": "4VLH7izHnLBA"
   },
   "outputs": [],
   "source": [
    "# Encode the string labels to integers\n",
    "label_encoder = LabelEncoder()\n",
    "labels = label_encoder.fit_transform(labels)"
   ]
  },
  {
   "cell_type": "code",
   "execution_count": 6,
   "metadata": {
    "id": "ry3tqhXcnQY3"
   },
   "outputs": [],
   "source": [
    "# One-hot encode the labels\n",
    "one_hot_labels = keras.utils.to_categorical(labels)"
   ]
  },
  {
   "cell_type": "code",
   "execution_count": 7,
   "metadata": {
    "id": "3qGL_rrcnUC3"
   },
   "outputs": [],
   "source": [
    "# Split the data into training and testing sets\n",
    "xtrain, xtest, ytrain, ytest = train_test_split(padded_sequences,\n",
    "                                                one_hot_labels,\n",
    "                                                test_size=0.2)"
   ]
  },
  {
   "cell_type": "code",
   "execution_count": 8,
   "metadata": {
    "id": "VGf7PxWFnYc7"
   },
   "outputs": [
    {
     "name": "stdout",
     "output_type": "stream",
     "text": [
      "Epoch 1/10\n",
      "400/400 [==============================] - 25s 58ms/step - loss: 1.3884 - accuracy: 0.4719 - val_loss: 0.9442 - val_accuracy: 0.6609\n",
      "Epoch 2/10\n",
      "400/400 [==============================] - 22s 56ms/step - loss: 0.4087 - accuracy: 0.8751 - val_loss: 0.5224 - val_accuracy: 0.8178\n",
      "Epoch 3/10\n",
      "400/400 [==============================] - 24s 59ms/step - loss: 0.0747 - accuracy: 0.9808 - val_loss: 0.5858 - val_accuracy: 0.8163\n",
      "Epoch 4/10\n",
      "400/400 [==============================] - 21s 53ms/step - loss: 0.0282 - accuracy: 0.9942 - val_loss: 0.5648 - val_accuracy: 0.8288\n",
      "Epoch 5/10\n",
      "400/400 [==============================] - 24s 59ms/step - loss: 0.0198 - accuracy: 0.9962 - val_loss: 0.6002 - val_accuracy: 0.8234\n",
      "Epoch 6/10\n",
      "400/400 [==============================] - 22s 55ms/step - loss: 0.0163 - accuracy: 0.9964 - val_loss: 0.6436 - val_accuracy: 0.8166\n",
      "Epoch 7/10\n",
      "400/400 [==============================] - 22s 54ms/step - loss: 0.0149 - accuracy: 0.9966 - val_loss: 0.6600 - val_accuracy: 0.8184\n",
      "Epoch 8/10\n",
      "400/400 [==============================] - 21s 53ms/step - loss: 0.0138 - accuracy: 0.9969 - val_loss: 0.6973 - val_accuracy: 0.8153\n",
      "Epoch 9/10\n",
      "400/400 [==============================] - 21s 54ms/step - loss: 0.0122 - accuracy: 0.9970 - val_loss: 0.6836 - val_accuracy: 0.8169\n",
      "Epoch 10/10\n",
      "400/400 [==============================] - 21s 53ms/step - loss: 0.0106 - accuracy: 0.9974 - val_loss: 0.7455 - val_accuracy: 0.8141\n"
     ]
    },
    {
     "data": {
      "text/plain": [
       "<keras.callbacks.History at 0x15bf2df1d50>"
      ]
     },
     "execution_count": 8,
     "metadata": {},
     "output_type": "execute_result"
    }
   ],
   "source": [
    "# Define the model\n",
    "model = Sequential()\n",
    "model.add(Embedding(input_dim=len(tokenizer.word_index) + 1,\n",
    "                    output_dim=128, input_length=max_length))\n",
    "model.add(Flatten())\n",
    "model.add(Dense(units=128, activation=\"relu\"))\n",
    "model.add(Dense(units=len(one_hot_labels[0]), activation=\"softmax\"))\n",
    "\n",
    "model.compile(optimizer=\"adam\", loss=\"categorical_crossentropy\", metrics=[\"accuracy\"])\n",
    "model.fit(xtrain, ytrain, epochs=10, batch_size=32, validation_data=(xtest, ytest))"
   ]
  },
  {
   "cell_type": "code",
   "execution_count": 9,
   "metadata": {
    "id": "4cMZZTFQndMp"
   },
   "outputs": [
    {
     "name": "stdout",
     "output_type": "stream",
     "text": [
      "1/1 [==============================] - 0s 154ms/step\n",
      "['joy']\n"
     ]
    }
   ],
   "source": [
    "input_text = \"i feel a little mellow today\"\n",
    "\n",
    "# Preprocess the input text\n",
    "input_sequence = tokenizer.texts_to_sequences([input_text])\n",
    "padded_input_sequence = pad_sequences(input_sequence, maxlen=max_length)\n",
    "prediction = model.predict(padded_input_sequence)\n",
    "predicted_label = label_encoder.inverse_transform([np.argmax(prediction[0])])\n",
    "print(predicted_label)"
   ]
  }
 ],
 "metadata": {
  "colab": {
   "provenance": []
  },
  "kernelspec": {
   "display_name": "Python 3 (ipykernel)",
   "language": "python",
   "name": "python3"
  },
  "language_info": {
   "codemirror_mode": {
    "name": "ipython",
    "version": 3
   },
   "file_extension": ".py",
   "mimetype": "text/x-python",
   "name": "python",
   "nbconvert_exporter": "python",
   "pygments_lexer": "ipython3",
   "version": "3.11.2"
  }
 },
 "nbformat": 4,
 "nbformat_minor": 1
}
